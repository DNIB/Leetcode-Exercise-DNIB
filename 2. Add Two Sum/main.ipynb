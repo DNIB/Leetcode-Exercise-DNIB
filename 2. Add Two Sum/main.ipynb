{
 "cells": [
  {
   "cell_type": "code",
   "execution_count": 2,
   "metadata": {},
   "outputs": [],
   "source": [
    "# Definition for singly-linked list.\n",
    "class ListNode(object):\n",
    "    def __init__(self, x):\n",
    "        self.val = x\n",
    "        self.next = None"
   ]
  },
  {
   "cell_type": "code",
   "execution_count": 49,
   "metadata": {},
   "outputs": [],
   "source": [
    "class Solution(object):\n",
    "    def addTwoNumbers(self, l1, l2):\n",
    "        \"\"\"\n",
    "        :type l1: ListNode\n",
    "        :type l2: ListNode\n",
    "        :rtype: ListNode\n",
    "        \"\"\"\n",
    "        r_node = l1\n",
    "        c_node = r_node\n",
    "        \n",
    "        while c_node:\n",
    "            c_node.val += l2.val\n",
    "            if (c_node.next==None) and (l2.next or (c_node.val >= 10)):\n",
    "                c_node.next = ListNode(int(c_node.val/10))\n",
    "                c_node.val %= 10\n",
    "            elif c_node.val >= 10 and c_node.next:\n",
    "                c_node.next.val += int(c_node.val/10)\n",
    "                c_node.val %= 10\n",
    "            if l2.next == None:\n",
    "                l2.next = ListNode(0)\n",
    "            c_node, l2 = c_node.next, l2.next\n",
    "\n",
    "        return r_node"
   ]
  },
  {
   "cell_type": "code",
   "execution_count": 50,
   "metadata": {},
   "outputs": [
    {
     "name": "stdout",
     "output_type": "stream",
     "text": [
      "8\n",
      "0\n",
      "1\n"
     ]
    }
   ],
   "source": [
    "s = Solution()\n",
    "a = ListNode(9)\n",
    "b = ListNode(9)\n",
    "b.next = ListNode(9)\n",
    "output = s.addTwoNumbers(a, b)\n",
    "\n",
    "while output:\n",
    "    print(output.val)\n",
    "    output = output.next"
   ]
  },
  {
   "cell_type": "code",
   "execution_count": null,
   "metadata": {},
   "outputs": [],
   "source": []
  },
  {
   "cell_type": "code",
   "execution_count": null,
   "metadata": {},
   "outputs": [],
   "source": []
  }
 ],
 "metadata": {
  "kernelspec": {
   "display_name": "Python 3",
   "language": "python",
   "name": "python3"
  },
  "language_info": {
   "codemirror_mode": {
    "name": "ipython",
    "version": 3
   },
   "file_extension": ".py",
   "mimetype": "text/x-python",
   "name": "python",
   "nbconvert_exporter": "python",
   "pygments_lexer": "ipython3",
   "version": "3.7.3"
  }
 },
 "nbformat": 4,
 "nbformat_minor": 2
}
