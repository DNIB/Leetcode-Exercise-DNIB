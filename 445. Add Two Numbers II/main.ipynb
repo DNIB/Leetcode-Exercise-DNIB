{
 "cells": [
  {
   "cell_type": "code",
   "execution_count": 6,
   "metadata": {},
   "outputs": [],
   "source": [
    "# Definition for singly-linked list.\n",
    "# class ListNode(object):\n",
    "#     def __init__(self, x):\n",
    "#         self.val = x\n",
    "#         self.next = None\n",
    "\n",
    "class Solution(object):\n",
    "    def addTwoNumbers(self, l1, l2):\n",
    "        \"\"\"\n",
    "        :type l1: ListNode\n",
    "        :type l2: ListNode\n",
    "        :rtype: ListNode\n",
    "        \"\"\"\n",
    "        n1, n2 = 0, 0\n",
    "        while l1:\n",
    "            n1 *= 10\n",
    "            n1 += l1.val\n",
    "            l1 = l1.next\n",
    "        while l2:\n",
    "            n2 *= 10\n",
    "            n2 += l2.val\n",
    "            l2 = l2.next\n",
    "        n3 = n1+n2\n",
    "        n4 = 0\n",
    "        i = 0\n",
    "            \n",
    "        while n3>0:\n",
    "            n4 *= 10\n",
    "            n4 += n3%10\n",
    "            n3 /= 10\n",
    "            i += 1\n",
    "        \n",
    "        r_node = ListNode(0)\n",
    "        c_node = r_node\n",
    "        runned = None\n",
    "        while n4>0 or (runned == None) or i>0:\n",
    "            c_node.next = ListNode(n4%10)\n",
    "            c_node = c_node.next\n",
    "            n4 /= 10\n",
    "            runned = True\n",
    "            i -= 1\n",
    "        \n",
    "        return r_node.next"
   ]
  },
  {
   "cell_type": "code",
   "execution_count": 7,
   "metadata": {},
   "outputs": [
    {
     "name": "stdout",
     "output_type": "stream",
     "text": [
      "123 123\n",
      "1\n",
      "2\n",
      "3\n"
     ]
    }
   ],
   "source": [
    "a = 123\n",
    "b = str(a)\n",
    "print(a, b)\n",
    "for i in range (0, len(b)):\n",
    "    print(b[i])"
   ]
  },
  {
   "cell_type": "code",
   "execution_count": null,
   "metadata": {},
   "outputs": [],
   "source": []
  },
  {
   "cell_type": "code",
   "execution_count": null,
   "metadata": {},
   "outputs": [],
   "source": []
  }
 ],
 "metadata": {
  "kernelspec": {
   "display_name": "Python 3",
   "language": "python",
   "name": "python3"
  },
  "language_info": {
   "codemirror_mode": {
    "name": "ipython",
    "version": 3
   },
   "file_extension": ".py",
   "mimetype": "text/x-python",
   "name": "python",
   "nbconvert_exporter": "python",
   "pygments_lexer": "ipython3",
   "version": "3.7.3"
  }
 },
 "nbformat": 4,
 "nbformat_minor": 2
}
