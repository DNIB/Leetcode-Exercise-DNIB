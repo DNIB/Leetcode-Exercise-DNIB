{
 "cells": [
  {
   "cell_type": "code",
   "execution_count": 13,
   "metadata": {},
   "outputs": [],
   "source": [
    "class LRUCache(object):\n",
    "\n",
    "    def __init__(self, capacity):\n",
    "        \"\"\"\n",
    "        :type capacity: int\n",
    "        \"\"\"\n",
    "        self.content = []\n",
    "        self.size = 0\n",
    "        self.max_size = capacity\n",
    "\n",
    "    def get(self, key):\n",
    "        \"\"\"\n",
    "        :type key: int\n",
    "        :rtype: int\n",
    "        \"\"\"\n",
    "        for i in range(0, len(self.content)):\n",
    "            if self.content[i][0] == key:\n",
    "                key, value = self.content[i][0], self.content[i][1]\n",
    "                del self.content[i]\n",
    "                self.content.insert(0, [key, value])\n",
    "                return value\n",
    "        return -1\n",
    "\n",
    "    def put(self, key, value):\n",
    "        \"\"\"\n",
    "        :type key: int\n",
    "        :type value: int\n",
    "        :rtype: None\n",
    "        \"\"\"\n",
    "        for i in range(0, len(self.content)):\n",
    "            if key == self.content[i][0]:\n",
    "                del self.content[i]\n",
    "                self.content.insert(0, [key, value])\n",
    "                return None\n",
    "            \n",
    "        if self.size < self.max_size:\n",
    "            self.content.insert(0, [key, value])\n",
    "            self.size += 1\n",
    "            \n",
    "        else:\n",
    "            del self.content[self.max_size-1]\n",
    "            self.content.insert(0, [key, value])\n",
    "        \n",
    "\n",
    "\n",
    "# Your LRUCache object will be instantiated and called as such:\n",
    "# obj = LRUCache(capacity)\n",
    "# param_1 = obj.get(key)\n",
    "# obj.put(key,value)"
   ]
  },
  {
   "cell_type": "code",
   "execution_count": 28,
   "metadata": {},
   "outputs": [
    {
     "name": "stdout",
     "output_type": "stream",
     "text": [
      "[1, 2, 3, 4]\n"
     ]
    }
   ],
   "source": [
    "a = [1, 2, 3, 4, 5]\n",
    "a.pop()\n",
    "print(a)"
   ]
  },
  {
   "cell_type": "code",
   "execution_count": 42,
   "metadata": {},
   "outputs": [],
   "source": [
    "class LRUCache(object):\n",
    "\n",
    "    def __init__(self, capacity):\n",
    "        \"\"\"\n",
    "        :type capacity: int\n",
    "        \"\"\"\n",
    "        self.key = []\n",
    "        self.value = []\n",
    "        self.size = 0\n",
    "        self.max_size = capacity\n",
    "\n",
    "    def get(self, key):\n",
    "        \"\"\"\n",
    "        :type key: int\n",
    "        :rtype: int\n",
    "        \"\"\"\n",
    "        try:\n",
    "            temp = self.key.index(key)\n",
    "            k, v = self.key[temp], self.value[temp]\n",
    "            del self.key[temp]\n",
    "            del self.value[temp]\n",
    "            self.key.insert(0, k)\n",
    "            self.value.insert(0, v)\n",
    "            return v\n",
    "        except:\n",
    "            return -1\n",
    "\n",
    "    def put(self, key, value):\n",
    "        \"\"\"\n",
    "        :type key: int\n",
    "        :type value: int\n",
    "        :rtype: None\n",
    "        \"\"\"\n",
    "        try:\n",
    "            i = self.key.index(key)\n",
    "            del self.key[i]\n",
    "            del self.value[i]\n",
    "            \n",
    "        except:\n",
    "            if self.size < self.max_size:\n",
    "                self.size += 1\n",
    "            else:\n",
    "                self.key.pop()\n",
    "                self.value.pop()\n",
    "                \n",
    "        self.key.insert(0, key)\n",
    "        self.value.insert(0, value)\n",
    "    \n",
    "    def show(self):\n",
    "        print(self.key)\n",
    "        print(self.value)\n",
    "\n",
    "\n",
    "# Your LRUCache object will be instantiated and called as such:\n",
    "# obj = LRUCache(capacity)\n",
    "# param_1 = obj.get(key)\n",
    "# obj.put(key,value)"
   ]
  },
  {
   "cell_type": "code",
   "execution_count": 43,
   "metadata": {},
   "outputs": [
    {
     "name": "stdout",
     "output_type": "stream",
     "text": [
      "None\n",
      "None\n",
      "2\n",
      "None\n",
      "-1\n",
      "None\n",
      "[4, 3]\n",
      "[4, 3]\n",
      "-1\n",
      "4\n",
      "4\n"
     ]
    }
   ],
   "source": [
    "a = LRUCache(2)\n",
    "print(a.put(1, 1))\n",
    "print(a.put(2, 2))\n",
    "print(a.get(1))\n",
    "print(a.put(3, 3))\n",
    "print(a.get(2))\n",
    "print(a.put(4, 4))\n",
    "a.show()\n",
    "print(a.get(1))\n",
    "print(a.get(4))\n",
    "print(a.get(3))"
   ]
  },
  {
   "cell_type": "code",
   "execution_count": null,
   "metadata": {},
   "outputs": [],
   "source": []
  }
 ],
 "metadata": {
  "kernelspec": {
   "display_name": "Python 3",
   "language": "python",
   "name": "python3"
  },
  "language_info": {
   "codemirror_mode": {
    "name": "ipython",
    "version": 3
   },
   "file_extension": ".py",
   "mimetype": "text/x-python",
   "name": "python",
   "nbconvert_exporter": "python",
   "pygments_lexer": "ipython3",
   "version": "3.7.3"
  }
 },
 "nbformat": 4,
 "nbformat_minor": 2
}
