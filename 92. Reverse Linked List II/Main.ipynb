{
 "cells": [
  {
   "cell_type": "code",
   "execution_count": null,
   "metadata": {},
   "outputs": [],
   "source": [
    "# Definition for singly-linked list.\n",
    "# class ListNode(object):\n",
    "#     def __init__(self, x):\n",
    "#         self.val = x\n",
    "#         self.next = None\n",
    "\n",
    "class Solution(object):\n",
    "    def reverseBetween(self, head, m, n):\n",
    "        \"\"\"\n",
    "        :type head: ListNode\n",
    "        :type m: int\n",
    "        :type n: int\n",
    "        :rtype: ListNode\n",
    "        \"\"\"\n",
    "        addrList = []\n",
    "        copyList = []\n",
    "        present = head\n",
    "        i = 0\n",
    "        while present:\n",
    "            if m-1 <= i < n:\n",
    "                copyList.insert(0, present.val)\n",
    "            addrList.append(present)\n",
    "            i += 1\n",
    "            present = present.next\n",
    "        \n",
    "        for i in range (m-1, n):\n",
    "            addrList[i].val = copyList[0]\n",
    "            del copyList[0]\n",
    "            \n",
    "        return addrList[0]\n",
    "            "
   ]
  }
 ],
 "metadata": {
  "kernelspec": {
   "display_name": "Python 3",
   "language": "python",
   "name": "python3"
  },
  "language_info": {
   "codemirror_mode": {
    "name": "ipython",
    "version": 3
   },
   "file_extension": ".py",
   "mimetype": "text/x-python",
   "name": "python",
   "nbconvert_exporter": "python",
   "pygments_lexer": "ipython3",
   "version": "3.7.3"
  }
 },
 "nbformat": 4,
 "nbformat_minor": 2
}
